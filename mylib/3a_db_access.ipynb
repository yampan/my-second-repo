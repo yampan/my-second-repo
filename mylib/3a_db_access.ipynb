{
 "cells": [
  {
   "cell_type": "markdown",
   "id": "6881d513-2f4a-4d79-82c5-5dd80737048a",
   "metadata": {},
   "source": [
    "# **<font color=darkgreen>DB access**"
   ]
  },
  {
   "cell_type": "markdown",
   "id": "427ad086-cfe6-41c0-93b6-20ab1ea58540",
   "metadata": {},
   "source": [
    "## **Microsoft SQL server**  \n",
    "Microsoft がテストを行い pyodbc ドライバーを推奨しています。 次のいずれかのドライバーを選択し、開発環境を構成します。  \n",
    "+   Python SQL ドライバー - pyod　\n",
    "+ Python SQL ドライバー - pymssql\n",
    "\n",
    "ここでは、pyodbc を使用する。\n",
    "Windows install \n",
    "Microsoft ODBC Driver 18 for SQL Server (x64) のダウンロード　https://go.microsoft.com/fwlink/?linkid=2280794\n",
    "\n",
    "  pyodbc パッケージをインストールする  \n",
    "  command prompt で\n",
    "  `python -m pip install pyodbc` を実行する。  bc"
   ]
  },
  {
   "cell_type": "code",
   "execution_count": 1,
   "id": "2b891fd8-60eb-4dff-aca4-2887d282362a",
   "metadata": {
    "scrolled": true
   },
   "outputs": [],
   "source": [
    "#!python -m pip install pyodbc"
   ]
  },
  {
   "cell_type": "code",
   "execution_count": 9,
   "id": "a675e881-2020-40a0-b820-ce3d0ee87bed",
   "metadata": {},
   "outputs": [
    {
     "name": "stdout",
     "output_type": "stream",
     "text": [
      "str= DRIVER={SQL Server};SERVER=172.31.12.11;DATABASE=MOSAIQ;UID=MOSAIQUser;PWD=mosaiq;Trusted_Connection=no\n"
     ]
    }
   ],
   "source": [
    "\"\"\"\n",
    "Connects to a SQL database using pyodbc\n",
    "\"\"\"\n",
    "import pyodbc\n",
    "import pprint\n",
    "\n",
    "#SERVER = '<server-address>'\n",
    "#DATABASE = '<database-name>'\n",
    "#USERNAME = '<username>'\n",
    "#PASSWORD = '<password>'\n",
    "\n",
    "SERVER = '172.31.12.11'\n",
    "DATABASE = 'MOSAIQ'\n",
    "USERNAME = 'MOSAIQUser'\n",
    "PASSWORD = 'mosaiq'\n",
    "\n",
    "#driver = \"{ODBC Driver 18 for SQL Server}\"\n",
    "driver = \"{SQL Server}\"\n",
    "\n",
    "connectionString = f'DRIVER={driver};' +f'SERVER={SERVER};' +\\\n",
    "                   f'DATABASE={DATABASE};UID={USERNAME};PWD={PASSWORD};Trusted_Connection=no'\n",
    "print(\"str=\", connectionString)\n",
    "conn = pyodbc.connect(connectionString)\n",
    "\n",
    "# str= DRIVER={SQL Server};SERVER=172.31.12.11;DATABASE=MOSAIQ;UID=MOSAIQUser;\n",
    "# PWD=mosaiq;Trusted_Connection=no"
   ]
  },
  {
   "cell_type": "code",
   "execution_count": 13,
   "id": "a6da0146-3b98-492c-be1f-6e7f91cedb53",
   "metadata": {},
   "outputs": [],
   "source": [
    "SQL_QUERY = \"\"\"\n",
    "SELECT TOP 5 c.CustomerID, c.CompanyName, COUNT(soh.SalesOrderID) AS OrderCount \n",
    "FROM SalesLT.Customer AS c \n",
    "LEFT OUTER JOIN SalesLT.SalesOrderHeader AS soh ON c.CustomerID = soh.CustomerID \n",
    "GROUP BY c.CustomerID, c.CompanyName \n",
    "ORDER BY OrderCount DESC;\n",
    "\"\"\"\n",
    "SQL_QUERY = '''select pat_id1,user_defined_dttm_1,user_defined_pro_id_3 from admin where pat_id1 = '16119';'''\n",
    "#SQL_QUERY = '''select table_name from information_schema.tables where table_type='base table';'''\n",
    "#SQL_QUERY = '''select top 100 pat_id1, last_name, first_name from patient ;'''\n",
    "#SQL_QUERY = '''select * from prompt where pro_id='13112';'''\n",
    "#SQL_QUERY = '''select pro_id,text from prompt where pro_id>='13100' and pro_id<='13200';'''"
   ]
  },
  {
   "cell_type": "code",
   "execution_count": null,
   "id": "8cd39774-265d-4c15-b19a-cbe9455b609d",
   "metadata": {},
   "outputs": [],
   "source": [
    "# SQL 実行、結果を印字\n",
    "\n",
    "def query(sql):\n",
    "    conn = pyodbc.connect(connectionString)\n",
    "    cursor = conn.cursor()\n",
    "    \n",
    "    cursor.execute(sql) # SQL 実行\n",
    "    \n",
    "    rows = cursor.fetchall()\n",
    "    print(rows)\n",
    "    cursor.close()\n",
    "    conn.close()\n",
    "    return rows"
   ]
  },
  {
   "cell_type": "code",
   "execution_count": 15,
   "id": "51401117-c66d-4363-bc97-1e15a4e1d285",
   "metadata": {},
   "outputs": [
    {
     "name": "stdout",
     "output_type": "stream",
     "text": [
      "[(16119, datetime.datetime(2023, 4, 29, 0, 0), 13114)]\n",
      "[(16119, datetime.datetime(2023, 4, 29, 0, 0), 13114)]\n"
     ]
    }
   ],
   "source": [
    "rows = query(SQL_QUERY)\n",
    "\n",
    "pprint.pprint(rows)\n",
    "\n",
    "# [(16119, datetime.datetime(2023, 4, 29, 0, 0), 13114)]\n",
    "# 管理番号、最終生存確認日、病態"
   ]
  },
  {
   "cell_type": "code",
   "execution_count": 16,
   "id": "eb8d2e93-4a23-4fc2-ae5e-4e992ef9667a",
   "metadata": {},
   "outputs": [
    {
     "name": "stdout",
     "output_type": "stream",
     "text": [
      "13114\n",
      "4.原病死\n"
     ]
    }
   ],
   "source": [
    "status = {'13111':'1.非担癌生存','13114':'4.原病死', '13113':'3.担癌不詳生存', '13112':'2.担癌生存','13115':'5.他病死',\n",
    "          '13116':'6.不明死', '13117':'7.消息不明' }\n",
    "st=rows[0][2]\n",
    "print(st)\n",
    "print(status[str(st)])"
   ]
  },
  {
   "cell_type": "code",
   "execution_count": null,
   "id": "0d6a2768-32c9-49eb-81e1-f116ecc74efa",
   "metadata": {},
   "outputs": [],
   "source": []
  },
  {
   "cell_type": "code",
   "execution_count": 17,
   "id": "bce5f210-e44f-48cb-bd6a-be2c2259310c",
   "metadata": {},
   "outputs": [
    {
     "name": "stdout",
     "output_type": "stream",
     "text": [
      "SQL= \n",
      "select i.ida,p.last_name,p.first_name from ident i \n",
      "  left outer join patient p on i.pat_id1=p.pat_id1 \n",
      "  where i.pat_id1=16839 ;\n",
      "[('', '足利', 'update')]\n"
     ]
    },
    {
     "data": {
      "text/plain": [
       "[('', '足利', 'update')]"
      ]
     },
     "execution_count": 17,
     "metadata": {},
     "output_type": "execute_result"
    }
   ],
   "source": [
    "# ID= 16119 の カルテ番号、氏名を表示\n",
    "sql = '''\n",
    "select i.ida,p.last_name,p.first_name from ident i \n",
    "  left outer join patient p on i.pat_id1=p.pat_id1 \n",
    "  where i.pat_id1=16839 ;'''\n",
    "print(\"SQL=\", sql)\n",
    "query(sql)"
   ]
  },
  {
   "cell_type": "code",
   "execution_count": null,
   "id": "cfe6d7f1-7b99-45c9-b2b0-9d082dbb9959",
   "metadata": {},
   "outputs": [],
   "source": [
    "# 性別、生年月日 を表示\n",
    "sql= \"\"\"select i.Pat_Id1,i.ida,p.Last_Name,p.First_Name,a.Gender,\n",
    "            dbo.fn_GetPatientAge(i.Pat_Id1,GETDATE()) from ident i\n",
    "            left outer join patient p on i.Pat_Id1=p.Pat_ID1\n",
    "            left outer join admin a on a.Pat_ID1=i.Pat_Id1\n",
    "            where i.ida='00000202308' ;\"\"\"\n",
    "print(\"SQL=\", sql)\n",
    "query(sql)"
   ]
  },
  {
   "cell_type": "code",
   "execution_count": null,
   "id": "d7f51756-fa24-45df-abb4-28d9b3949664",
   "metadata": {},
   "outputs": [],
   "source": []
  },
  {
   "cell_type": "code",
   "execution_count": null,
   "id": "5b06e94d-7c51-41c9-8617-79d7d70aa26b",
   "metadata": {},
   "outputs": [
    {
     "name": "stdout",
     "output_type": "stream",
     "text": [
      "SQL= select pat_id1,user_defined_dttm_1,user_defined_pro_id_3 \n",
      "from admin where pat_id1 = '16839';\n",
      "[(16839, None, 13114)]\n"
     ]
    },
    {
     "data": {
      "text/plain": [
       "[(16839, None, 13114)]"
      ]
     },
     "execution_count": 33,
     "metadata": {},
     "output_type": "execute_result"
    }
   ],
   "source": [
    "# ID=16839 の病態、最終生存確認日 を表示\n",
    "sql = '''select pat_id1,user_defined_dttm_1,user_defined_pro_id_3 \n",
    "from admin where pat_id1 = '16839';'''\n",
    "\n",
    "print(\"SQL=\", sql)\n",
    "query(sql)"
   ]
  },
  {
   "cell_type": "code",
   "execution_count": 32,
   "id": "769cda77-3307-4c90-8cff-362b0e7a9a29",
   "metadata": {},
   "outputs": [
    {
     "name": "stdout",
     "output_type": "stream",
     "text": [
      "SQL= update admin set user_defined_pro_id_3 = ?\n",
      "where pat_id1 = ? ;\n",
      "values= (13114, 16839)\n",
      "実行しました.\n"
     ]
    }
   ],
   "source": [
    "# ID=16421 の病態、最終生存確認日 UPDATE\n",
    "conn = pyodbc.connect(connectionString)\n",
    "cursor = conn.cursor()\n",
    "\n",
    "sql = '''update admin set user_defined_pro_id_3 = ?\n",
    "where pat_id1 = ? ;'''\n",
    "values=(13114, 16839) # 現病死、 ID=16421\n",
    "print(\"SQL=\", sql)\n",
    "print(\"values=\", values)\n",
    "try:\n",
    "    cursor.execute(sql, values)\n",
    "    conn.commit()\n",
    "except Exception as e:\n",
    "    print(f'error: {e}')\n",
    "    conn.rollback()\n",
    "finally:\n",
    "    cursor.close()\n",
    "    conn.close()\n",
    "    print(\"実行しました.\")\n"
   ]
  },
  {
   "cell_type": "code",
   "execution_count": null,
   "id": "157607bb-604c-4c2e-952e-74652929705f",
   "metadata": {},
   "outputs": [],
   "source": []
  },
  {
   "cell_type": "code",
   "execution_count": null,
   "id": "c8f4461f-ed5f-4452-b8b4-f657840078a0",
   "metadata": {},
   "outputs": [
    {
     "name": "stdout",
     "output_type": "stream",
     "text": [
      "sql= update admin set user_defined_pro_id_3 = ?\n",
      "where pat_id1 = ? ;\n",
      "values= (13113, 16839)\n",
      "データが更新されました\n"
     ]
    }
   ],
   "source": [
    "# transaction\n",
    "def trans(sql, values):\n",
    "    print(\"sql=\", sql)\n",
    "    print(\"values=\", values)\n",
    "    \n",
    "    try:\n",
    "        # 接続\n",
    "        conn = pyodbc.connect(connectionString)\n",
    "        cursor = conn.cursor()\n",
    "    \n",
    "        # トランザクション開始\n",
    "        #cursor.execute(\"BEGIN TRANSACTION\")\n",
    "    \n",
    "        # SQL文の実行\n",
    "        cursor.execute(sql, values)\n",
    "    \n",
    "        # コミット\n",
    "        conn.commit()\n",
    "        print(\"データが更新されました\")\n",
    "    \n",
    "    except pyodbc.Error as ex:\n",
    "        print('Error:', ex)\n",
    "        # ロールバック\n",
    "        conn.rollback()\n",
    "    \n",
    "    finally:\n",
    "        # 接続を閉じる\n",
    "        if conn:\n",
    "            conn.close()\n",
    "    return\n",
    "#---\n",
    "sql='''update admin set user_defined_pro_id_3 = ?\n",
    "where pat_id1 = ? ;'''\n",
    "values=(13113, 16839) \n",
    "trans(sql, values)\n",
    "\n",
    "#---"
   ]
  },
  {
   "cell_type": "code",
   "execution_count": null,
   "id": "3fd9f7c6-a76b-4b72-b9b9-1c024a2e90e2",
   "metadata": {},
   "outputs": [],
   "source": []
  },
  {
   "cell_type": "markdown",
   "id": "93a1951c-db18-4de7-b618-6eff9018e5a0",
   "metadata": {},
   "source": [
    "# <font color=red>**test**"
   ]
  },
  {
   "cell_type": "code",
   "execution_count": 37,
   "id": "e514f1bc-85eb-496b-8963-53415051efe2",
   "metadata": {},
   "outputs": [
    {
     "name": "stdout",
     "output_type": "stream",
     "text": [
      "### trans2 ###\n",
      "sql= update admin set user_defined_pro_id_3 = 13114\n",
      "where pat_id1 = 16839 ;\n",
      "values= (13113, 16839)\n",
      "データが更新されました\n"
     ]
    }
   ],
   "source": [
    "# transaction\n",
    "def trans2(sql):\n",
    "    print(\"### trans2 ###\")\n",
    "    print(\"sql=\", sql)\n",
    "    print(\"values=\", values)\n",
    "    \n",
    "    try:\n",
    "        # 接続\n",
    "        conn = pyodbc.connect(connectionString)\n",
    "        cursor = conn.cursor()\n",
    "    \n",
    "        # トランザクション開始\n",
    "        #cursor.execute(\"BEGIN TRANSACTION\")\n",
    "    \n",
    "        # SQL文の実行\n",
    "        cursor.execute(sql)\n",
    "    \n",
    "        # コミット\n",
    "        conn.commit()\n",
    "        print(\"データが更新されました\")\n",
    "    \n",
    "    except pyodbc.Error as ex:\n",
    "        print('Error:', ex)\n",
    "        # ロールバック\n",
    "        conn.rollback()\n",
    "    \n",
    "    finally:\n",
    "        # 接続を閉じる\n",
    "        if conn:\n",
    "            conn.close()\n",
    "#---\n",
    "sql='''update admin set user_defined_pro_id_3 = 13114\n",
    "where pat_id1 = 16839 ;'''\n",
    "#values=(13113, 16839) \n",
    "trans2(sql)\n",
    "\n",
    "#---"
   ]
  },
  {
   "cell_type": "code",
   "execution_count": null,
   "id": "337f3b48-8ad3-4569-99dd-04fbc3ff7f15",
   "metadata": {},
   "outputs": [],
   "source": []
  },
  {
   "cell_type": "code",
   "execution_count": null,
   "id": "d59b499d-aaab-4d7c-8b5c-7f0de46861d3",
   "metadata": {},
   "outputs": [],
   "source": []
  },
  {
   "cell_type": "code",
   "execution_count": 1,
   "id": "dfef8d7b-ada9-4add-80c4-fb0d6230f875",
   "metadata": {},
   "outputs": [
    {
     "name": "stdout",
     "output_type": "stream",
     "text": [
      "END\n"
     ]
    }
   ],
   "source": [
    "# すべてのセルを文字列として取得\n",
    "import nbformat\n",
    "\n",
    "# 現在開いているノートブックを読み込む\n",
    "with open('3a_db_access.ipynb', 'r', encoding='utf-8') as f:\n",
    "    nb = nbformat.read(f, as_version=4)\n",
    "\n",
    "# すべてのセルを文字列として取得\n",
    "all_code = []\n",
    "for cell in nb.cells:\n",
    "    if cell.cell_type == 'code':\n",
    "        all_code.append(cell.source)\n",
    "# テキストファイルに保存\n",
    "with open('3a_db_access.py', 'w') as f:\n",
    "    for code in all_code:\n",
    "        f.write(code)\n",
    "print(\"END\")"
   ]
  },
  {
   "cell_type": "code",
   "execution_count": null,
   "id": "60405850-9840-4b76-b21a-d5424f1cb2f5",
   "metadata": {},
   "outputs": [],
   "source": [
    "!jupyter nbconvert --to python 3a_db_access.ipynb --output output.py"
   ]
  },
  {
   "cell_type": "code",
   "execution_count": null,
   "id": "2d3130bb-cf91-4555-8240-e59fa3816ce5",
   "metadata": {},
   "outputs": [],
   "source": []
  }
 ],
 "metadata": {
  "kernelspec": {
   "display_name": "Python 3 (ipykernel)",
   "language": "python",
   "name": "python3"
  },
  "language_info": {
   "codemirror_mode": {
    "name": "ipython",
    "version": 3
   },
   "file_extension": ".py",
   "mimetype": "text/x-python",
   "name": "python",
   "nbconvert_exporter": "python",
   "pygments_lexer": "ipython3",
   "version": "3.11.5"
  }
 },
 "nbformat": 4,
 "nbformat_minor": 5
}
